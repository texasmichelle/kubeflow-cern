{
 "cells": [
  {
   "cell_type": "markdown",
   "metadata": {},
   "source": [
    "# TrackML Problem Explanation and Data Exploration\n",
    "\n",
    "Adapted from [Wesam Elshamy's](https://www.kaggle.com/wesamelshamy) [Kaggle Kernel](https://www.kaggle.com/kernels/scriptcontent/3966101/notebook) for use on Kubeflow v0.5.0.\n",
    "\n",
    "Related Kaggle Competition: [TrackML Particle Tracking Challenge](https://www.kaggle.com/c/trackml-particle-identification/leaderboard)"
   ]
  },
  {
   "cell_type": "markdown",
   "metadata": {
    "_cell_guid": "d359b6c8-1803-4a89-888c-5273c501ead3",
    "_uuid": "39eee1c9f51be754aa8282953e891b33f197b593"
   },
   "source": [
    "![](https://upload.wikimedia.org/wikipedia/commons/1/1a/Tyre_Marks_in_the_Sand_-_geograph.org.uk_-_1546451.jpg)\n",
    "\n",
    "# Quick Problem Description\n",
    "Link every *track* to one *hit*.\n",
    "\n",
    "*Disclaimer: I'm oversimplifying physics to explain this problem*.\n",
    "\n",
    "Every particle leaves a track behind it, like a car leaving tire marks in the sand.  We did not catch the particle in action.  Now we want to link every track (tire mark) to one hit that the particle created.\n",
    "\n",
    "In every **event**, a large number of **particles** are released.  They move along a path leaving behind their **tracks**.  They eventually **hit** a particle detector surface on the other end.\n",
    "\n",
    "In the training data we have the following information on each **event**:\n",
    "- **Hits**: $x, y, z$ coordinates of each hit on the particle detector\n",
    "- **Particles**: Each particle's initial position ($v_x, v_y, v_z$), momentum ($p_x, p_y, p_z$), charge ($q$) and number of hits\n",
    "- **Truth**: Mapping between hits and generating particles; the particle's trajectory, momentum and the hit weight\n",
    "- **Cells**: Precise location of where each particle hit the detector and how much energy it deposited"
   ]
  },
  {
   "cell_type": "markdown",
   "metadata": {
    "_cell_guid": "089ad293-ca5d-4352-9e87-35300a757f3c",
    "_uuid": "3d4c96fa4e9f4a55f70ac8fcf0e9073c18276757"
   },
   "source": [
    "# Data Exploration:\n",
    "\n",
    "## Install required libraries"
   ]
  },
  {
   "cell_type": "code",
   "execution_count": null,
   "metadata": {},
   "outputs": [],
   "source": [
    "!git clone https://github.com/LAL/trackml-library.git src/trackml-library\n",
    "!pip install src/trackml-library\n",
    "!pip install pandas\n",
    "!pip install matplotlib\n",
    "!pip install seaborn"
   ]
  },
  {
   "cell_type": "markdown",
   "metadata": {
    "_cell_guid": "089ad293-ca5d-4352-9e87-35300a757f3c",
    "_uuid": "3d4c96fa4e9f4a55f70ac8fcf0e9073c18276757"
   },
   "source": [
    "## Import `trackml-library`\n",
    "The easiest and best way to load the data is with the [trackml-library] that was built for this purpose.\n",
    "\n",
    "[trackml-library]: https://github.com/LAL/trackml-library"
   ]
  },
  {
   "cell_type": "code",
   "execution_count": null,
   "metadata": {
    "_cell_guid": "b1076dfc-b9ad-4769-8c92-a6c4dae69d19",
    "_uuid": "8f2839f25d086af736a60e9eeb907d3b93b6e0e5",
    "scrolled": true
   },
   "outputs": [],
   "source": [
    "import os\n",
    "\n",
    "import numpy as np\n",
    "import pandas as pd\n",
    "\n",
    "from trackml.dataset import load_event\n",
    "from trackml.randomize import shuffle_hits\n",
    "from trackml.score import score_event\n",
    "\n",
    "import matplotlib.pyplot as plt\n",
    "from mpl_toolkits.mplot3d import Axes3D\n",
    "import seaborn as sns\n",
    "%matplotlib inline"
   ]
  },
  {
   "cell_type": "code",
   "execution_count": null,
   "metadata": {
    "_cell_guid": "03e8af96-85ba-4d79-8601-453a32b8942e",
    "_uuid": "59c07c9273966e79b26594a4804f209064a94048"
   },
   "outputs": [],
   "source": [
    "event_prefix = 'event000001000'\n",
    "hits, cells, particles, truth = load_event(os.path.join('input/train_100_events', event_prefix))\n",
    "\n",
    "mem_bytes = (hits.memory_usage(index=True).sum() \n",
    "             + cells.memory_usage(index=True).sum() \n",
    "             + particles.memory_usage(index=True).sum() \n",
    "             + truth.memory_usage(index=True).sum())\n",
    "print('{} memory usage {:.2f} MB'.format(event_prefix, mem_bytes / 2**20))"
   ]
  },
  {
   "cell_type": "markdown",
   "metadata": {
    "_cell_guid": "ad9c44f5-4b12-4aac-a557-d16fbbaa28be",
    "_uuid": "967a443483052831a49bc0a019b7766c972a287e"
   },
   "source": [
    "## Hits Data\n",
    "### Where Did it Hit?\n",
    "Here we have the $x, y, z$ global coordinates (in millimeters) of where the particles hit the detector surface."
   ]
  },
  {
   "cell_type": "code",
   "execution_count": null,
   "metadata": {
    "_cell_guid": "6a8fc52e-43c2-4de3-908c-506731b60e69",
    "_kg_hide-input": true,
    "_uuid": "bdaafeba9a5f961c74a486447729c0e24ae1c383"
   },
   "outputs": [],
   "source": [
    "hits.head()"
   ]
  },
  {
   "cell_type": "markdown",
   "metadata": {
    "_cell_guid": "1ab2bcf6-c621-4e20-a307-3e4f799271e2",
    "_uuid": "f5cc5dff4d8c52263b0c11bf43a37f6e7177c053"
   },
   "source": [
    "Here is the distribution of $x, y, z$ location of hits in event 1000.  This is only for one out of 8,850 events.\n",
    "\n",
    "### Vertical Intersection ($x, y$) in Detection Layers\n",
    "As shown in the figure below, the hits are semi evenly distributed on the detector surface $x, y$.  The white circle in the center of the plot is where the beam pipe lies.  Thanks [agerom] for [the clarification][clar].\n",
    "\n",
    "The colors represent different detector volumes.  Thanks to [Joshua Bonatt's notebook][josh].\n",
    "\n",
    "[josh]: https://www.kaggle.com/jbonatt/trackml-eda-etc\n",
    "[clar]: https://www.kaggle.com/wesamelshamy/trackml-problem-explanation-and-data-exploration/comments#323803\n",
    "[agerom]: https://www.kaggle.com/artemiosgeromitsos"
   ]
  },
  {
   "cell_type": "code",
   "execution_count": null,
   "metadata": {
    "_cell_guid": "b9103439-c5b9-4f00-bc6f-c30186b37199",
    "_kg_hide-input": true,
    "_uuid": "3fa89a0e36b380d73da92add20d844b6c44c2394",
    "scrolled": false
   },
   "outputs": [],
   "source": [
    "g = sns.jointplot(hits.x, hits.y,  s=1, height=12)\n",
    "g.ax_joint.cla()\n",
    "plt.sca(g.ax_joint)\n",
    "\n",
    "volumes = hits.volume_id.unique()\n",
    "for volume in volumes:\n",
    "    v = hits[hits.volume_id == volume]\n",
    "    plt.scatter(v.x, v.y, s=3, label='volume {}'.format(volume))\n",
    "\n",
    "plt.xlabel('X (mm)')\n",
    "plt.ylabel('Y (mm)')\n",
    "plt.legend()\n",
    "plt.show()"
   ]
  },
  {
   "cell_type": "markdown",
   "metadata": {
    "_cell_guid": "f5e39b13-889c-4b09-b3cd-49ff28d6a0db",
    "_uuid": "8dce3b23a9c1e546d9d4a533bb5fa26207bde12e"
   },
   "source": [
    "### Horizonal Intersection ($y, z$) in Detection Layers\n",
    "You can think of the chart below as a horizontal intersection in the detection surface, where every dot is a hit.  Notice the relationship between the different activity levels in this chart and the one above for $x, y$.\n",
    "\n",
    "Again, the colors represent different volumes in the detector surface."
   ]
  },
  {
   "cell_type": "code",
   "execution_count": null,
   "metadata": {
    "_cell_guid": "2b8ebb84-6ba3-460b-8f0b-1cbc4c13bde8",
    "_kg_hide-input": true,
    "_uuid": "01e21efd1d0fbe9ef58d6d0b108778b497e74418"
   },
   "outputs": [],
   "source": [
    "g = sns.jointplot(hits.z, hits.y, s=1, height=12)\n",
    "g.ax_joint.cla()\n",
    "plt.sca(g.ax_joint)\n",
    "\n",
    "volumes = hits.volume_id.unique()\n",
    "for volume in volumes:\n",
    "    v = hits[hits.volume_id == volume]\n",
    "    plt.scatter(v.z, v.y, s=3, label='volume {}'.format(volume))\n",
    "\n",
    "plt.xlabel('Z (mm)')\n",
    "plt.ylabel('Y (mm)')\n",
    "plt.legend()\n",
    "plt.show()"
   ]
  },
  {
   "cell_type": "markdown",
   "metadata": {
    "_cell_guid": "8317678a-0b46-4aae-ab87-63f2a8f34627",
    "_uuid": "e810d9f26e7098ee93d2a759c0e5cd3a3d871b37"
   },
   "source": [
    "And here is how the hits in this event look like in 3D.  Again, a sample from one event.  This combines the previous two charts in 3D.\n",
    "\n",
    "Notice how the particles penetrate the detector surface along $z$ coordinate."
   ]
  },
  {
   "cell_type": "code",
   "execution_count": null,
   "metadata": {
    "_cell_guid": "5a459a75-7177-486e-9672-5d83c57c9b32",
    "_kg_hide-input": true,
    "_uuid": "8b12e47ba2b0390593de00b5831f2967273d2727"
   },
   "outputs": [],
   "source": [
    "fig = plt.figure(figsize=(12, 12))\n",
    "ax = fig.add_subplot(111, projection='3d')\n",
    "for volume in volumes:\n",
    "    v = hits[hits.volume_id == volume]\n",
    "    ax.scatter(v.z, v.x, v.y, s=1, label='volume {}'.format(volume), alpha=0.5)\n",
    "ax.set_title('Hit Locations')\n",
    "ax.set_xlabel('Z (millimeters)')\n",
    "ax.set_ylabel('X (millimeters)')\n",
    "ax.set_zlabel('Y (millimeters)')\n",
    "plt.show()"
   ]
  },
  {
   "cell_type": "markdown",
   "metadata": {
    "_cell_guid": "d900418a-d5a0-47de-b38f-4d951674436f",
    "_uuid": "85000e23ede450d2ed202ac2e90885a51e59a7e6"
   },
   "source": [
    "### Affected Surface Object\n",
    "The **volume**, **layer** and **module** are nested parts on the detector surface.  The volume is made of layers, which in turn have modules.  Analyzing their response could help us understand if some of them are dead/defective and therefore we may need to account for the bias they cause.\n",
    "\n",
    "The figure below shows a plot of every combination of `x`, `y`, `volume`, `layer` and `module`.  The colors identify different *volumes*.  Along the main diagonal we have the variables' histograms.\n",
    "\n",
    "The (`hit_id`, `x`) and (`hit_id`, `y`) pairs show us how different volumes are layered.\n",
    "\n",
    "This figure idea is taken from [Joshua Bonatt's notebook][josh].\n",
    "\n",
    "[josh]: https://www.kaggle.com/jbonatt/trackml-eda-etc"
   ]
  },
  {
   "cell_type": "markdown",
   "metadata": {
    "_cell_guid": "57008c54-dd96-4078-b15c-4309df70fcf1",
    "_kg_hide-input": true,
    "_uuid": "220569de9ac9b768ed21eb45fce93f29cf715301",
    "collapsed": true,
    "scrolled": false
   },
   "source": [
    "hits_sample = hits.sample(8000)\n",
    "sns.pairplot(hits_sample, hue='volume_id', height=8)\n",
    "plt.show()"
   ]
  },
  {
   "cell_type": "markdown",
   "metadata": {
    "_cell_guid": "9d1f9269-5cba-47f7-8c63-232217e14dfa",
    "_uuid": "4cb917ec90ef3557fd74aefec7add41f229e541c"
   },
   "source": [
    "## Particle Data\n",
    "The particle data help us understand each particle's initial position, momentum, and charge, which we can join with the event truth data set to get the particle's final position and momentum.  This is needed to identify the tracks that each particle generated.\n",
    "\n",
    "The data look like this:"
   ]
  },
  {
   "cell_type": "code",
   "execution_count": null,
   "metadata": {
    "_cell_guid": "767168f3-72a8-4a18-acdd-d2f99cec82ca",
    "_kg_hide-input": true,
    "_uuid": "fa553f014a7e9cd86fdd63ca6f4cf3e509ed77ee",
    "scrolled": true
   },
   "outputs": [],
   "source": [
    "particles.head()"
   ]
  },
  {
   "cell_type": "markdown",
   "metadata": {
    "_cell_guid": "b4609d74-9f85-4864-853a-5d7ba6648a86",
    "_uuid": "3b158a527abd9fb972b2c93e61eb723b9584cd7b"
   },
   "source": [
    "### Hit Rate and Charge Distribution\n",
    "Let's see the distribution of the number of hits per particle, shown below.  A significant number of particles had no attributed hits, and most of them have positive charge in this event."
   ]
  },
  {
   "cell_type": "code",
   "execution_count": null,
   "metadata": {
    "_cell_guid": "8e3fe657-91af-41ac-9103-c1fbab7b87bc",
    "_kg_hide-input": true,
    "_uuid": "6d01bb62a80675ab2bcf6d7b4e77138cdbef2c68",
    "scrolled": false
   },
   "outputs": [],
   "source": [
    "plt.figure(figsize=(15, 5))\n",
    "plt.subplot(1, 2, 1)\n",
    "sns.distplot(particles.nhits.values, axlabel='Hits/Particle', bins=50)\n",
    "plt.title('Distribution of number of hits per particle for event 1000.')\n",
    "plt.subplot(1, 2, 2)\n",
    "plt.pie(particles.groupby('q')['vx'].count(),\n",
    "        labels=['negative', 'positive'],\n",
    "        autopct='%.0f%%',\n",
    "        shadow=True,\n",
    "        radius=0.8)\n",
    "plt.title('Distribution of particle charges.')\n",
    "plt.show()"
   ]
  },
  {
   "cell_type": "markdown",
   "metadata": {
    "_cell_guid": "2758c4e7-6f42-4231-bae5-eed457b5a0a9",
    "_uuid": "59debf3c9e7b418f2fda294c17efeb177d5bb554"
   },
   "source": [
    "### Initial Position and Momentum\n",
    "Let's now take a look at the initial position of the particles around the global coordinates' origin $(x, y)=(0,0)$, as shown in the figure below.\n",
    "\n",
    "The initial position distribution is more concentrated around the origin (less variance) than its hit position (shown above under the Hits Data section).  As the particles hit the detection surface, they tend to scatter as shown in the particle trajectory plot at the end of this notebook.\n",
    "\n",
    "The colors here show the number of hits for each particle."
   ]
  },
  {
   "cell_type": "code",
   "execution_count": null,
   "metadata": {
    "_cell_guid": "ac738872-a844-4689-80fd-7a890f4ceee6",
    "_kg_hide-input": true,
    "_uuid": "00bfca1a73f34b3e57c07adb16085f4dac54d4d4"
   },
   "outputs": [],
   "source": [
    "g = sns.jointplot(particles.vx, particles.vy,  s=3, height=12)\n",
    "g.ax_joint.cla()\n",
    "plt.sca(g.ax_joint)\n",
    "\n",
    "n_hits = particles.nhits.unique()\n",
    "for n_hit in n_hits:\n",
    "    p = particles[particles.nhits == n_hit]\n",
    "    plt.scatter(p.vx, p.vy, s=3, label='Hits {}'.format(n_hit))\n",
    "\n",
    "plt.xlabel('X (mm)')\n",
    "plt.ylabel('Y (mm)')\n",
    "plt.legend()\n",
    "plt.show()"
   ]
  },
  {
   "cell_type": "markdown",
   "metadata": {
    "_cell_guid": "e2f2ef2c-29c2-4f74-bbd3-f013bc9feebd",
    "_uuid": "42c65ac6fc47295acb8dd53263ebdd5d13bc0b59"
   },
   "source": [
    "And here is the initial position of the particles in a $z$, $y$ view.  Colors show number of hits."
   ]
  },
  {
   "cell_type": "code",
   "execution_count": null,
   "metadata": {
    "_cell_guid": "efd8b505-251d-46a4-9dd8-ceda7b681cf3",
    "_kg_hide-input": true,
    "_uuid": "7d9f003a21cd7a6a90aa7c836902861d8403f2fa"
   },
   "outputs": [],
   "source": [
    "g = sns.jointplot(particles.vz, particles.vy,  s=3, height=12)\n",
    "g.ax_joint.cla()\n",
    "plt.sca(g.ax_joint)\n",
    "\n",
    "n_hits = particles.nhits.unique()\n",
    "for n_hit in n_hits:\n",
    "    p = particles[particles.nhits == n_hit]\n",
    "    plt.scatter(p.vz, p.vy, s=3, label='Hits {}'.format(n_hit))\n",
    "\n",
    "plt.xlabel('Z (mm)')\n",
    "plt.ylabel('Y (mm)')\n",
    "plt.legend()\n",
    "plt.show()"
   ]
  },
  {
   "cell_type": "markdown",
   "metadata": {
    "_cell_guid": "59445b5a-dbd6-4172-861c-9c030697eef5",
    "_uuid": "9d9985b942181ca712f7868e1ff8526677f2717d"
   },
   "source": [
    "And this is what they look like in 3D."
   ]
  },
  {
   "cell_type": "code",
   "execution_count": null,
   "metadata": {
    "_cell_guid": "89143b53-2a3e-430a-969e-b9573fd1f65e",
    "_kg_hide-input": true,
    "_uuid": "ebf24188198254c2b7b2061596d6292430c26233"
   },
   "outputs": [],
   "source": [
    "fig = plt.figure(figsize=(12, 12))\n",
    "ax = fig.add_subplot(111, projection='3d')\n",
    "for charge in [-1, 1]:\n",
    "    q = particles[particles.q == charge]\n",
    "    ax.scatter(q.vz, q.vx, q.vy, s=1, label='Charge {}'.format(charge), alpha=0.5)\n",
    "ax.set_title('Sample of 1000 Particle initial location')\n",
    "ax.set_xlabel('Z (millimeters)')\n",
    "ax.set_ylabel('X (millimeters)')\n",
    "ax.set_zlabel('Y (millimeters)')\n",
    "ax.legend()\n",
    "plt.show()"
   ]
  },
  {
   "cell_type": "markdown",
   "metadata": {
    "_cell_guid": "6cc06ab2-1953-4070-a65d-0b6222254e2c",
    "_uuid": "b64e8f430428799b25c882457d38c74ab65fbf70"
   },
   "source": [
    "## Pair plot\n",
    "Let's now take a look at the relationship between different pair combinations of the particle variables.  Again, the colors represent the number of hits.\n",
    "\n",
    "There is no large skew in the distribution of the number of hits over other variables.  It looks like the particles are targetted towards the global origin $(x,y)=(0,0)$ and are evenly distributed around it."
   ]
  },
  {
   "cell_type": "markdown",
   "metadata": {
    "_cell_guid": "e94570e5-a40d-46cc-841f-177ccd8eef5b",
    "_kg_hide-input": true,
    "_uuid": "275576a476f7a5f9fbcab8706fa40ca7280b6ccc",
    "collapsed": true
   },
   "source": [
    "p_sample = particles.sample(8000)\n",
    "sns.pairplot(p_sample, vars=['particle_id', 'vx', 'vy', 'vz', 'px', 'py', 'pz', 'nhits'], hue='nhits', size=8)\n",
    "plt.show()"
   ]
  },
  {
   "cell_type": "markdown",
   "metadata": {
    "_cell_guid": "cc766f4f-b28e-44b0-82f3-12159e6a6687",
    "_uuid": "26cec5efdc80f7cf931b5b888e014ee83633edb9"
   },
   "source": [
    "### Particle Trajectory\n",
    "We can reconstruct the trajectories for a few particles given their intersection points with the detection layers.  As explained in the [competition evaluation page][ceval], hits from straight tracks have larger wieghts, and random tracks or hits with very short tracks have weights of zero.  The figure below shows two such examples.\n",
    "\n",
    "Thanks to [maka's notebook][traj] for the idea.\n",
    "\n",
    "[traj]: https://www.kaggle.com/makahana/quick-trajectory-plot\n",
    "[ceval]: https://www.kaggle.com/c/trackml-particle-identification#evaluation"
   ]
  },
  {
   "cell_type": "code",
   "execution_count": null,
   "metadata": {
    "_cell_guid": "bfd1e6ec-ed44-4ece-bd54-51f60c6cb7b8",
    "_kg_hide-input": true,
    "_uuid": "f80be8052d98f82af6bc17a3726a792ff36f892c"
   },
   "outputs": [],
   "source": [
    "# Get particle id with max number of hits in this event\n",
    "particle = particles.loc[particles.nhits == particles.nhits.max()].iloc[0]\n",
    "particle2 = particles.loc[particles.nhits == particles.nhits.max()].iloc[1]\n",
    "\n",
    "# Get points where the same particle intersected subsequent layers of the observation material\n",
    "p_traj_surface = truth[truth.particle_id == particle.particle_id][['tx', 'ty', 'tz']]\n",
    "p_traj_surface2 = truth[truth.particle_id == particle2.particle_id][['tx', 'ty', 'tz']]\n",
    "\n",
    "p_traj = (p_traj_surface\n",
    "          .append({'tx': particle.vx, 'ty': particle.vy, 'tz': particle.vz}, ignore_index=True)\n",
    "          .sort_values(by='tz'))\n",
    "p_traj2 = (p_traj_surface2\n",
    "          .append({'tx': particle2.vx, 'ty': particle2.vy, 'tz': particle2.vz}, ignore_index=True)\n",
    "          .sort_values(by='tz'))\n",
    "\n",
    "fig = plt.figure(figsize=(10, 10))\n",
    "ax = fig.add_subplot(111, projection='3d')\n",
    "\n",
    "ax.plot(\n",
    "    xs=p_traj.tx,\n",
    "    ys=p_traj.ty,\n",
    "    zs=p_traj.tz, marker='o')\n",
    "ax.plot(\n",
    "    xs=p_traj2.tx,\n",
    "    ys=p_traj2.ty,\n",
    "    zs=p_traj2.tz, marker='o')\n",
    "\n",
    "ax.set_xlabel('X (mm)')\n",
    "ax.set_ylabel('Y (mm)')\n",
    "ax.set_zlabel('Z  (mm) -- Detection layers')\n",
    "plt.title('Trajectories of two particles as they cross the detection surface ($Z$ axis).')\n",
    "plt.show()"
   ]
  },
  {
   "cell_type": "code",
   "execution_count": null,
   "metadata": {},
   "outputs": [],
   "source": []
  }
 ],
 "metadata": {
  "kernelspec": {
   "display_name": "Python 3",
   "language": "python",
   "name": "python3"
  },
  "language_info": {
   "codemirror_mode": {
    "name": "ipython",
    "version": 3
   },
   "file_extension": ".py",
   "mimetype": "text/x-python",
   "name": "python",
   "nbconvert_exporter": "python",
   "pygments_lexer": "ipython3",
   "version": "3.6.7"
  }
 },
 "nbformat": 4,
 "nbformat_minor": 1
}
